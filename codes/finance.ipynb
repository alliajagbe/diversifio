{
 "cells": [
  {
   "cell_type": "code",
   "execution_count": 1,
   "metadata": {},
   "outputs": [],
   "source": [
    "import pandas as pd\n",
    "# df=pd.read_csv('archive\\Loan_status_2007-2020Q3.gzip',low_memory=False)\n",
    "# df.head(5)\n",
    "df = pd.read_csv('beautiful_dataset.csv')"
   ]
  },
  {
   "cell_type": "code",
   "execution_count": 3,
   "metadata": {},
   "outputs": [
    {
     "name": "stderr",
     "output_type": "stream",
     "text": [
      "C:\\Users\\user\\AppData\\Local\\Temp\\ipykernel_7400\\1378534908.py:3: SettingWithCopyWarning: \n",
      "A value is trying to be set on a copy of a slice from a DataFrame\n",
      "\n",
      "See the caveats in the documentation: https://pandas.pydata.org/pandas-docs/stable/user_guide/indexing.html#returning-a-view-versus-a-copy\n",
      "  new_df.dropna(inplace=True)\n"
     ]
    }
   ],
   "source": [
    "selected_columns = ['int_rate', 'sub_grade']\n",
    "new_df = df[selected_columns]\n",
    "new_df.dropna(inplace=True)"
   ]
  },
  {
   "cell_type": "code",
   "execution_count": 6,
   "metadata": {},
   "outputs": [
    {
     "name": "stdout",
     "output_type": "stream",
     "text": [
      "ANOVA F-statistic: 82143.48747020763\n",
      "ANOVA p-value: 0.000000000000\n",
      "Reject the null hypothesis. There is evidence of a significant difference in interest rates among grades.\n"
     ]
    }
   ],
   "source": [
    "import scipy.stats as stats\n",
    "result = stats.f_oneway(*[new_df['int_rate'][new_df['sub_grade'] == subgrade] for subgrade in new_df['sub_grade'].unique()])\n",
    "\n",
    "# Print the result\n",
    "print(\"ANOVA F-statistic:\", result.statistic)\n",
    "print(\"ANOVA p-value: {:.12f}\".format(result.pvalue))\n",
    "# Interpret the p-value\n",
    "alpha = 0.05\n",
    "if result.pvalue < alpha:\n",
    "    print(\"Reject the null hypothesis. There is evidence of a significant difference in interest rates among grades.\")\n",
    "else:\n",
    "    print(\"Fail to reject the null hypothesis. There is no significant difference in interest rates among grades.\")"
   ]
  },
  {
   "cell_type": "code",
   "execution_count": null,
   "metadata": {},
   "outputs": [],
   "source": [
    "from scipy.stats import f_oneway\n",
    "\n",
    "\n",
    "# Perform ANOVA\n",
    "result = f_oneway(\n",
    "    new_df['int_rate'][new_df['sub_grade'] == 'A'],\n",
    "    new_df['int_rate'][new_df['sub_grade'] == 'B'],\n",
    "    new_df['int_rate'][new_df['sub_grade'] == 'C'],\n",
    "    new_df['int_rate'][new_df['sub_grade'] == 'D'],\n",
    "    new_df['int_rate'][new_df['grade'] == 'E'],\n",
    "    new_df['int_rate'][new_df['grade'] == 'F'],\n",
    "    new_df['int_rate'][new_df['grade'] == 'G'],\n",
    ")\n",
    "\n",
    "# Print the result\n",
    "print(\"F-statistic:\", result.statistic)\n",
    "print(\"P-value:\", result.pvalue)\n",
    "\n",
    "# Check the p-value against your significance level (e.g., 0.05) to make a decision\n"
   ]
  },
  {
   "cell_type": "code",
   "execution_count": null,
   "metadata": {},
   "outputs": [],
   "source": [
    "rows_to_drop = ['Current', 'Late (31-120 days)', 'In Grace Period', 'Late (16-30 days)', 'Issued',\n",
    "                'Does not meet the credit policy. Status:Fully Paid', 'Does not meet the credit policy. Status:Charged Off']\n",
    "\n",
    "new_df = new_df[~new_df['loan_status'].isin(rows_to_drop)]\n",
    "new_df['loan_status'] = new_df['loan_status'].replace({'Default': 'Charged Off'})\n",
    "print(new_df['loan_status'].value_counts())\n"
   ]
  },
  {
   "cell_type": "code",
   "execution_count": null,
   "metadata": {},
   "outputs": [],
   "source": [
    "import hvplot.pandas"
   ]
  },
  {
   "cell_type": "markdown",
   "metadata": {},
   "source": [
    "# 🔍 Exploratory Data Analysis"
   ]
  },
  {
   "cell_type": "code",
   "execution_count": null,
   "metadata": {},
   "outputs": [],
   "source": [
    "new_df['loan_status'].value_counts().hvplot.bar(\n",
    "    title=\"Loan Status Counts\", xlabel='Loan Status', ylabel='Count', \n",
    "    width=500, height=350\n",
    ")"
   ]
  },
  {
   "cell_type": "code",
   "execution_count": null,
   "metadata": {},
   "outputs": [],
   "source": []
  },
  {
   "cell_type": "code",
   "execution_count": null,
   "metadata": {},
   "outputs": [],
   "source": [
    "import seaborn as sns\n",
    "import matplotlib.pyplot as plt\n",
    "cross_tab = pd.crosstab(new_df['grade'], new_df['loan_status'])\n",
    "\n",
    "# Plotting a heatmap for better visualization\n",
    "plt.figure(figsize=(12, 8))\n",
    "sns.heatmap(cross_tab, annot=True, fmt='d', cmap='Blues', cbar=True, linewidths=0.5)\n",
    "plt.title('Loan Status vs. Grade')\n",
    "plt.xlabel('Loan Status')\n",
    "plt.ylabel('Grade')\n",
    "plt.show()"
   ]
  },
  {
   "cell_type": "code",
   "execution_count": null,
   "metadata": {},
   "outputs": [],
   "source": [
    "df.head(20)"
   ]
  }
 ],
 "metadata": {
  "kernelspec": {
   "display_name": "Python 3",
   "language": "python",
   "name": "python3"
  },
  "language_info": {
   "codemirror_mode": {
    "name": "ipython",
    "version": 3
   },
   "file_extension": ".py",
   "mimetype": "text/x-python",
   "name": "python",
   "nbconvert_exporter": "python",
   "pygments_lexer": "ipython3",
   "version": "3.11.4"
  }
 },
 "nbformat": 4,
 "nbformat_minor": 2
}
